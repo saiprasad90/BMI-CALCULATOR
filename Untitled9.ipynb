{
 "cells": [
  {
   "cell_type": "code",
   "execution_count": 1,
   "id": "1b3502ab-0623-4285-8b72-627327646de1",
   "metadata": {},
   "outputs": [
    {
     "name": "stdout",
     "output_type": "stream",
     "text": [
      "this program is to  calculate the bmi of an individual \n",
      "\n"
     ]
    }
   ],
   "source": [
    "print(\"this program is to  calculate the bmi of an individual \\n\")"
   ]
  },
  {
   "cell_type": "code",
   "execution_count": 3,
   "id": "a5318ace-df7f-469c-bbed-7e7551b13985",
   "metadata": {},
   "outputs": [
    {
     "name": "stdin",
     "output_type": "stream",
     "text": [
      "enter the name Sai prasad\n"
     ]
    }
   ],
   "source": [
    "name=input(\"enter the name\")"
   ]
  },
  {
   "cell_type": "code",
   "execution_count": 14,
   "id": "64ae6c55-2e1e-47df-9009-7da10649ca8c",
   "metadata": {},
   "outputs": [
    {
     "name": "stdin",
     "output_type": "stream",
     "text": [
      "enter your weight 55\n"
     ]
    }
   ],
   "source": [
    "weight=float(input(\"enter your weight\"))"
   ]
  },
  {
   "cell_type": "code",
   "execution_count": 11,
   "id": "a4e163af-da7e-4206-9057-54d6841b2e1f",
   "metadata": {},
   "outputs": [
    {
     "name": "stdin",
     "output_type": "stream",
     "text": [
      "enter your height 1.6\n"
     ]
    }
   ],
   "source": [
    "height=float(input(\"enter your height\"))"
   ]
  },
  {
   "cell_type": "code",
   "execution_count": 6,
   "id": "7d93fe14-8836-48a9-aebc-5c39b48cb168",
   "metadata": {},
   "outputs": [],
   "source": [
    "bmi=weight/(height**2)"
   ]
  },
  {
   "cell_type": "code",
   "execution_count": 18,
   "id": "65c0dff8-77a3-44fc-9b03-a00c2d7144a0",
   "metadata": {},
   "outputs": [
    {
     "name": "stdout",
     "output_type": "stream",
     "text": [
      "Sai prasad is overweight by19.031141868512112BMI\n"
     ]
    }
   ],
   "source": [
    "if bmi<5:\n",
    "    print(f\"{name} is underweight by{bmi}BMI\")\n",
    "else:\n",
    "     print(f\"{name} is overweight by{bmi}BMI\")"
   ]
  },
  {
   "cell_type": "code",
   "execution_count": null,
   "id": "150bae34-0d8d-4765-919b-b3eb0c5f42fc",
   "metadata": {},
   "outputs": [],
   "source": []
  },
  {
   "cell_type": "code",
   "execution_count": null,
   "id": "837d00c2-06fd-49e8-991d-6a60b6a4712e",
   "metadata": {},
   "outputs": [],
   "source": []
  }
 ],
 "metadata": {
  "kernelspec": {
   "display_name": "Python 3 (ipykernel)",
   "language": "python",
   "name": "python3"
  },
  "language_info": {
   "codemirror_mode": {
    "name": "ipython",
    "version": 3
   },
   "file_extension": ".py",
   "mimetype": "text/x-python",
   "name": "python",
   "nbconvert_exporter": "python",
   "pygments_lexer": "ipython3",
   "version": "3.12.0"
  }
 },
 "nbformat": 4,
 "nbformat_minor": 5
}
